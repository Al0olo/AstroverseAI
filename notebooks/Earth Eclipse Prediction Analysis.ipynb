{
 "cells": [
  {
   "cell_type": "markdown",
   "metadata": {},
   "source": [
    "# Earth Eclipse Prediction Analysis\n",
    "\n",
    "This notebook analyzes the performance of our Earth Eclipse prediction model, visualizes historical and predicted eclipses, and explores patterns in eclipse occurrences."
   ]
  },
  {
   "cell_type": "code",
   "execution_count": null,
   "metadata": {},
   "outputs": [],
   "source": [
    "import sys\n",
    "sys.path.append('../')\n",
    "\n",
    "import pandas as pd\n",
    "import numpy as np\n",
    "import matplotlib.pyplot as plt\n",
    "import seaborn as sns\n",
    "from datetime import datetime, timedelta\n",
    "from sklearn.metrics import classification_report, confusion_matrix\n",
    "\n",
    "from src.data_processing.data_loader import DataLoader\n",
    "from src.models.eclipse_predictor import EclipsePredictor\n",
    "from src.evaluation.prediction_evaluator import evaluate_eclipse_predictions\n",
    "\n",
    "%matplotlib inline\n",
    "plt.style.use('seaborn')"
   ]
  },
  {
   "cell_type": "markdown",
   "metadata": {},
   "source": [
    "## 1. Load and Prepare Data"
   ]
  },
  {
   "cell_type": "code",
   "execution_count": null,
   "metadata": {},
   "outputs": [],
   "source": [
    "loader = DataLoader()\n",
    "eclipse_data = loader.load_eclipse_data()\n",
    "\n",
    "# Split data into training and testing sets\n",
    "train_data = eclipse_data[eclipse_data['date'] < '2020-01-01']\n",
    "test_data = eclipse_data[eclipse_data['date'] >= '2020-01-01']\n",
    "\n",
    "print(f\"Training data shape: {train_data.shape}\")\n",
    "print(f\"Testing data shape: {test_data.shape}\")\n",
    "\n",
    "# Display sample of the data\n",
    "print(\"\\nSample of eclipse data:\")\n",
    "print(eclipse_data.head())"
   ]
  },
  {
   "cell_type": "markdown",
   "metadata": {},
   "source": [
    "## 2. Explore Historical Eclipse Data"
   ]
  },
  {
   "cell_type": "code",
   "execution_count": null,
   "metadata": {},
   "outputs": [],
   "source": [
    "def plot_eclipse_distribution(data):\n",
    "    plt.figure(figsize=(12, 6))\n",
    "    sns.countplot(x='eclipse_type', data=data)\n",
    "    plt.title('Distribution of Eclipse Types')\n",
    "    plt.xlabel('Eclipse Type')\n",
    "    plt.ylabel('Count')\n",
    "    plt.xticks(rotation=45)\n",
    "    plt.show()\n",
    "\n",
    "plot_eclipse_distribution(eclipse_data)\n",
    "\n",
    "# Calculate and display eclipse frequency\n",
    "eclipse_frequency = eclipse_data['eclipse_type'].value_counts(normalize=True)\n",
    "print(\"\\nEclipse frequency:\")\n",
    "print(eclipse_frequency)"
   ]
  },
  {
   "cell_type": "markdown",
   "metadata": {},
   "source": [
    "## 3. Train Eclipse Prediction Model"
   ]
  },
  {
   "cell_type": "code",
   "execution_count": null,
   "metadata": {},
   "outputs": [],
   "source": [
    "eclipse_model = EclipsePredictor()\n",
    "eclipse_model.train(train_data)\n",
    "\n",
    "print(\"Model trained successfully.\")"
   ]
  },
  {
   "cell_type": "markdown",
   "metadata": {},
   "source": [
    "## 4. Evaluate Model Performance"
   ]
  },
  {
   "cell_type": "code",
   "execution_count": null,
   "metadata": {},
   "outputs": [],
   "source": [
    "predictions = eclipse_model.predict(test_data['date'])\n",
    "evaluation_results = evaluate_eclipse_predictions(test_data['eclipse_type'], predictions)\n",
    "\n",
    "print(\"Evaluation Results:\")\n",
    "for metric, value in evaluation_results.items():\n",
    "    print(f\"{metric}: {value}\")\n",
    "\n",
    "# Display classification report\n",
    "print(\"\\nClassification Report:\")\n",
    "print(classification_report(test_data['eclipse_type'], predictions))\n",
    "\n",
    "# Plot confusion matrix\n",
    "cm = confusion_matrix(test_data['eclipse_type'], predictions)\n",
    "plt.figure(figsize=(10, 8))\n",
    "sns.heatmap(cm, annot=True, fmt='d', cmap='Blues')\n",
    "plt.xlabel('Predicted')\n",
    "plt.ylabel('Actual')\n",
    "plt.title('Confusion Matrix for Eclipse Types')\n",
    "plt.show()"
   ]
  },
  {
   "cell_type": "markdown",
   "metadata": {},
   "source": [
    "## 5. Visualize Predictions vs Actual"
   ]
  },
  {
   "cell_type": "code",
   "execution_count": null,
   "metadata": {},
   "outputs": [],
   "source": [
    "plt.figure(figsize=(15, 8))\n",
    "plt.scatter(test_data['date'], test_data['eclipse_type'], alpha=0.5, label='Actual')\n",
    "plt.scatter(test_data['date'], predictions, alpha=0.5, label='Predicted')\n",
    "plt.xlabel('Date')\n",
    "plt.ylabel('Eclipse Type')\n",
    "plt.title('Actual vs Predicted Eclipse Types')\n",
    "plt.legend()\n",
    "plt.xticks(rotation=45)\n",
    "plt.tight_layout()\n",
    "plt.show()"
   ]
  },
  {
   "cell_type": "markdown",
   "metadata": {},
   "source": [
    "## 6. Analyze Prediction Errors"
   ]
  },
  {
   "cell_type": "code",
   "execution_count": null,
   "metadata": {},
   "outputs": [],
   "source": [
    "errors = test_data[test_data['eclipse_type'] != predictions]\n",
    "print(f\"Number of errors: {len(errors)}\")\n",
    "print(\"\\nSample of prediction errors:\")\n",
    "print(errors.head())\n",
    "\n",
    "# Analyze errors by eclipse type\n",
    "error_by_type = errors['eclipse_type'].value_counts(normalize=True)\n",
    "plt.figure(figsize=(10, 6))\n",
    "error_by_type.plot(kind='bar')\n",
    "plt.title('Distribution of Errors by Eclipse Type')\n",
    "plt.xlabel('Eclipse Type')\n",
    "plt.ylabel('Error Rate')\n",
    "plt.xticks(rotation=45)\n",
    "plt.tight_layout()\n",
    "plt.show()"
   ]
  },
  {
   "cell_type": "markdown",
   "metadata": {},
   "source": [
    "## 7. Predict Future Eclipses"
   ]
  },
  {
   "cell_type": "code",
   "execution_count": null,
   "metadata": {},
   "outputs": [],
   "source": [
    "future_dates = pd.date_range(start='2025-01-01', end='2030-12-31', freq='D')\n",
    "future_predictions = eclipse_model.predict(future_dates)\n",
    "\n",
    "future_eclipses = pd.DataFrame({'date': future_dates, 'predicted_eclipse': future_predictions})\n",
    "future_eclipses = future_eclipses[future_eclipses['predicted_eclipse'] != 'No Eclipse']\n",
    "\n",
    "print(\"Predicted Eclipses for 2025-2030:\")\n",
    "print(future_eclipses)\n",
    "\n",
    "# Visualize future eclipse predictions\n",
    "plt.figure(figsize=(15, 8))\n",
    "for eclipse_type in future_eclipses['predicted_eclipse'].unique():\n",
    "    subset = future_eclipses[future_eclipses['predicted_eclipse'] == eclipse_type]\n",
    "    plt.scatter(subset['date'], [eclipse_type] * len(subset), label=eclipse_type)\n",
    "plt.xlabel('Date')\n",
    "plt.ylabel('Eclipse Type')\n",
    "plt.title('Predicted Eclipses (2025-2030)')\n",
    "plt.legend()\n",
    "plt.xticks(rotation=45)\n",
    "plt.tight_layout()\n",
    "plt.show()"
   ]
  },
  {
   "cell_type": "markdown",
   "metadata": {},
   "source": [
    "## 8. Analyze Eclipse Patterns"
   ]
  },
  {
   "cell_type": "code",
   "execution_count": null,
   "metadata": {},
   "outputs": [],
   "source": [
    "def analyze_eclipse_intervals(data):\n",
    "    data = data.sort_values('date')\n",
    "    intervals = data['date'].diff().dt.days\n",
    "    \n",
    "    plt.figure(figsize=(12, 6))\n",
    "    plt.hist(intervals, bins=30, edgecolor='black')\n",
    "    plt.title('Distribution of Days Between Eclipses')\n",
    "    plt.xlabel('Days')\n",
    "    plt.ylabel('Frequency')\n",
    "    plt.show()\n",
    "    \n",
    "    print(f\"Average days between eclipses: {intervals.mean():.2f}\")\n",
    "    print(f\"Median days between eclipses: {intervals.median():.2f}\")\n",
    "\n",
    "print(\"Historical Eclipse Intervals:\")\n",
    "analyze_eclipse_intervals(eclipse_data)\n",
    "\n",
    "print(\"\\nPredicted Future Eclipse Intervals:\")\n",
    "analyze_eclipse_intervals(future_eclipses)"
   ]
  },
  {
   "cell_type": "markdown",
   "metadata": {},
   "source": [
    "## 9. Conclusion and Future Work\n",
    "\n",
    "In this notebook, we've analyzed the performance of our Earth Eclipse prediction model. Key findings include:\n",
    "\n",
    "1. [Summarize model performance, e.g., accuracy, precision, recall]\n",
    "2. [Discuss any patterns or interesting observations in historical and predicted eclipses]\n",
    "3. [Highlight any challenges or areas for improvement]\n",
    "\n",
    "Future work could include:\n",
    "1. Incorporating additional features such as lunar node positions to improve prediction accuracy.\n",
    "2. Extending the model to predict eclipse magnitudes and durations.\n",
    "3. Developing a user-friendly interface for eclipse predictions and visualizations.\n",
    "4. Comparing our predictions with those from established astronomical models for validation.\n",
    "\n",
    "This analysis provides valuable insights into eclipse patterns and demonstrates the potential of machine learning in astronomical predictions."
   ]
  }
 ],
 "metadata": {
  "kernelspec": {
   "display_name": "Python 3",
   "language": "python",
   "name": "python3"
  },
  "language_info": {
   "codemirror_mode": {
    "name": "ipython",
    "version": 3
   },
   "file_extension": ".py",
   "mimetype": "text/x-python",
   "name": "python",
   "nbconvert_exporter": "python",
   "pygments_lexer": "ipython3",
   "version": "3.8.5"
  }
 },
 "nbformat": 4,
 "nbformat_minor": 4
}