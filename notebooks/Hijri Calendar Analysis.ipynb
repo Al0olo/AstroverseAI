{
 "cells": [
  {
   "cell_type": "markdown",
   "metadata": {},
   "source": [
    "# Hijri Calendar Analysis\n",
    "\n",
    "This notebook analyzes the performance and predictions of our Hijri Calendar model."
   ]
  },
  {
   "cell_type": "code",
   "execution_count": null,
   "metadata": {},
   "outputs": [],
   "source": [
    "import sys\n",
    "sys.path.append('../')\n",
    "\n",
    "import pandas as pd\n",
    "import numpy as np\n",
    "import matplotlib.pyplot as plt\n",
    "from datetime import datetime, timedelta\n",
    "\n",
    "from src.data_processing.data_loader import DataLoader\n",
    "from src.models.hijri_model import HijriModel\n",
    "from src.evaluation.prediction_evaluator import evaluate_hijri_predictions"
   ]
  },
  {
   "cell_type": "markdown",
   "metadata": {},
   "source": [
    "## Load and Prepare Data"
   ]
  },
  {
   "cell_type": "code",
   "execution_count": null,
   "metadata": {},
   "outputs": [],
   "source": [
    "loader = DataLoader()\n",
    "hijri_data = loader.load_hijri_data()\n",
    "\n",
    "# Split data into training and testing sets\n",
    "train_data = hijri_data[hijri_data['gregorian_date'] < '2020-01-01']\n",
    "test_data = hijri_data[hijri_data['gregorian_date'] >= '2020-01-01']\n",
    "\n",
    "print(f\"Training data shape: {train_data.shape}\")\n",
    "print(f\"Testing data shape: {test_data.shape}\")"
   ]
  },
  {
   "cell_type": "markdown",
   "metadata": {},
   "source": [
    "## Train Hijri Model"
   ]
  },
  {
   "cell_type": "code",
   "execution_count": null,
   "metadata": {},
   "outputs": [],
   "source": [
    "hijri_model = HijriModel()\n",
    "hijri_model.train(train_data)\n",
    "\n",
    "print(\"Model trained successfully.\")"
   ]
  },
  {
   "cell_type": "markdown",
   "metadata": {},
   "source": [
    "## Evaluate Model Performance"
   ]
  },
  {
   "cell_type": "code",
   "execution_count": null,
   "metadata": {},
   "outputs": [],
   "source": [
    "predictions = hijri_model.predict(test_data['gregorian_date'])\n",
    "evaluation_results = evaluate_hijri_predictions(test_data['hijri_date'], predictions)\n",
    "\n",
    "print(\"Evaluation Results:\")\n",
    "for metric, value in evaluation_results.items():\n",
    "    print(f\"{metric}: {value}\")"
   ]
  },
  {
   "cell_type": "markdown",
   "metadata": {},
   "source": [
    "## Visualize Predictions"
   ]
  },
  {
   "cell_type": "code",
   "execution_count": null,
   "metadata": {},
   "outputs": [],
   "source": [
    "plt.figure(figsize=(12, 6))\n",
    "plt.scatter(test_data['gregorian_date'], test_data['hijri_date'], alpha=0.5, label='Actual')\n",
    "plt.scatter(test_data['gregorian_date'], predictions, alpha=0.5, label='Predicted')\n",
    "plt.xlabel('Gregorian Date')\n",
    "plt.ylabel('Hijri Date')\n",
    "plt.title('Actual vs Predicted Hijri Dates')\n",
    "plt.legend()\n",
    "plt.show()"
   ]
  },
  {
   "cell_type": "markdown",
   "metadata": {},
   "source": [
    "## Analyze Prediction Errors"
   ]
  },
  {
   "cell_type": "code",
   "execution_count": null,
   "metadata": {},
   "outputs": [],
   "source": [
    "errors = (predictions - test_data['hijri_date']).dt.days\n",
    "\n",
    "plt.figure(figsize=(10, 6))\n",
    "plt.hist(errors, bins=30)\n",
    "plt.xlabel('Error (days)')\n",
    "plt.ylabel('Frequency')\n",
    "plt.title('Distribution of Prediction Errors')\n",
    "plt.show()\n",
    "\n",
    "print(f\"Mean Absolute Error: {np.abs(errors).mean()} days\")\n",
    "print(f\"Maximum Error: {np.abs(errors).max()} days\")"
   ]
  },
  {
   "cell_type": "markdown",
   "metadata": {},
   "source": [
    "## Predict Future Dates"
   ]
  },
  {
   "cell_type": "code",
   "execution_count": null,
   "metadata": {},
   "outputs": [],
   "source": [
    "future_dates = pd.date_range(start='2025-01-01', end='2025-12-31', freq='D')\n",
    "future_predictions = hijri_model.predict(future_dates)\n",
    "\n",
    "plt.figure(figsize=(12, 6))\n",
    "plt.plot(future_dates, future_predictions)\n",
    "plt.xlabel('Gregorian Date')\n",
    "plt.ylabel('Predicted Hijri Date')\n",
    "plt.title('Predicted Hijri Dates for 2025')\n",
    "plt.show()"
   ]
  },
  {
   "cell_type": "markdown",
   "metadata": {},
   "source": [
    "## Conclusion\n",
    "\n",
    "In this notebook, we've analyzed the performance of our Hijri Calendar prediction model. We've evaluated its accuracy, visualized its predictions, and used it to forecast future dates. The model shows [insert your findings here, e.g., 'good accuracy with a mean absolute error of X days'].\n",
    "\n",
    "Future work could include [insert potential improvements or extensions, e.g., 'incorporating lunar visibility data to improve accuracy']."
   ]
  }
 ],
 "metadata": {
  "kernelspec": {
   "display_name": "Python 3",
   "language": "python",
   "name": "python3"
  },
  "language_info": {
   "codemirror_mode": {
    "name": "ipython",
    "version": 3
   },
   "file_extension": ".py",
   "mimetype": "text/x-python",
   "name": "python",
   "nbconvert_exporter": "python",
   "pygments_lexer": "ipython3",
   "version": "3.8.5"
  }
 },
 "nbformat": 4,
 "nbformat_minor": 4
}