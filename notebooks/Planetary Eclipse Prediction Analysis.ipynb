{
 "cells": [
  {
   "cell_type": "markdown",
   "metadata": {},
   "source": [
    "# Planetary Eclipse Prediction Analysis\n",
    "\n",
    "This notebook analyzes the performance of our Planetary Eclipse prediction model, visualizes historical and predicted eclipses for various planets, and explores patterns in planetary eclipse occurrences."
   ]
  },
  {
   "cell_type": "code",
   "execution_count": null,
   "metadata": {},
   "outputs": [],
   "source": [
    "import sys\n",
    "sys.path.append('../')\n",
    "\n",
    "import pandas as pd\n",
    "import numpy as np\n",
    "import matplotlib.pyplot as plt\n",
    "import seaborn as sns\n",
    "from datetime import datetime, timedelta\n",
    "from sklearn.metrics import classification_report, confusion_matrix\n",
    "\n",
    "from src.data_processing.data_loader import DataLoader\n",
    "from src.models.planetary_eclipse_predictor import PlanetaryEclipsePredictor\n",
    "from src.evaluation.prediction_evaluator import evaluate_planetary_eclipse_predictions\n",
    "\n",
    "%matplotlib inline\n",
    "plt.style.use('seaborn')\n",
    "\n",
    "# List of planets we're analyzing\n",
    "PLANETS = ['mercury', 'venus', 'mars', 'jupiter', 'saturn']"
   ]
  },
  {
   "cell_type": "markdown",
   "metadata": {},
   "source": [
    "## 1. Load and Prepare Data"
   ]
  },
  {
   "cell_type": "code",
   "execution_count": null,
   "metadata": {},
   "outputs": [],
   "source": [
    "loader = DataLoader()\n",
    "planetary_data = {planet: loader.load_planetary_eclipse_data(planet) for planet in PLANETS}\n",
    "\n",
    "# Split data into training and testing sets\n",
    "train_data = {}\n",
    "test_data = {}\n",
    "for planet in PLANETS:\n",
    "    train_data[planet] = planetary_data[planet][planetary_data[planet]['date'] < '2020-01-01']\n",
    "    test_data[planet] = planetary_data[planet][planetary_data[planet]['date'] >= '2020-01-01']\n",
    "\n",
    "for planet in PLANETS:\n",
    "    print(f\"{planet.capitalize()}:\")\n",
    "    print(f\"  Training data shape: {train_data[planet].shape}\")\n",
    "    print(f\"  Testing data shape: {test_data[planet].shape}\")\n",
    "\n",
    "# Display sample of the data\n",
    "print(\"\\nSample of planetary eclipse data (Mercury):\")\n",
    "print(planetary_data['mercury'].head())"
   ]
  },
  {
   "cell_type": "markdown",
   "metadata": {},
   "source": [
    "## 2. Explore Historical Planetary Eclipse Data"
   ]
  },
  {
   "cell_type": "code",
   "execution_count": null,
   "metadata": {},
   "outputs": [],
   "source": [
    "def plot_eclipse_distribution(data, planet):\n",
    "    plt.figure(figsize=(10, 6))\n",
    "    sns.countplot(x='eclipse_type', data=data)\n",
    "    plt.title(f'Distribution of Eclipse Types for {planet.capitalize()}')\n",
    "    plt.xlabel('Eclipse Type')\n",
    "    plt.ylabel('Count')\n",
    "    plt.xticks(rotation=45)\n",
    "    plt.show()\n",
    "\n",
    "for planet in PLANETS:\n",
    "    plot_eclipse_distribution(planetary_data[planet], planet)\n",
    "    \n",
    "    # Calculate and display eclipse frequency\n",
    "    eclipse_frequency = planetary_data[planet]['eclipse_type'].value_counts(normalize=True)\n",
    "    print(f\"\\nEclipse frequency for {planet.capitalize()}:\")\n",
    "    print(eclipse_frequency)\n",
    "    print(\"\\n\" + \"-\"*50)"
   ]
  },
  {
   "cell_type": "markdown",
   "metadata": {},
   "source": [
    "## 3. Train Planetary Eclipse Prediction Model"
   ]
  },
  {
   "cell_type": "code",
   "execution_count": null,
   "metadata": {},
   "outputs": [],
   "source": [
    "planetary_model = PlanetaryEclipsePredictor()\n",
    "\n",
    "for planet in PLANETS:\n",
    "    planetary_model.train(train_data[planet], planet)\n",
    "    print(f\"Model trained successfully for {planet.capitalize()}.\")"
   ]
  },
  {
   "cell_type": "markdown",
   "metadata": {},
   "source": [
    "## 4. Evaluate Model Performance"
   ]
  },
  {
   "cell_type": "code",
   "execution_count": null,
   "metadata": {},
   "outputs": [],
   "source": [
    "def evaluate_and_visualize(model, test_data, planet):\n",
    "    predictions = model.predict(test_data['date'], planet)\n",
    "    evaluation_results = evaluate_planetary_eclipse_predictions(test_data['eclipse_type'], predictions)\n",
    "    \n",
    "    print(f\"Evaluation Results for {planet.capitalize()}:\")\n",
    "    for metric, value in evaluation_results.items():\n",
    "        print(f\"{metric}: {value}\")\n",
    "    \n",
    "    print(f\"\\nClassification Report for {planet.capitalize()}:\")\n",
    "    print(classification_report(test_data['eclipse_type'], predictions))\n",
    "    \n",
    "    cm = confusion_matrix(test_data['eclipse_type'], predictions)\n",
    "    plt.figure(figsize=(8, 6))\n",
    "    sns.heatmap(cm, annot=True, fmt='d', cmap='Blues')\n",
    "    plt.xlabel('Predicted')\n",
    "    plt.ylabel('Actual')\n",
    "    plt.title(f'Confusion Matrix for {planet.capitalize()} Eclipse Types')\n",
    "    plt.show()\n",
    "\n",
    "for planet in PLANETS:\n",
    "    evaluate_and_visualize(planetary_model, test_data[planet], planet)\n",
    "    print(\"\\n\" + \"-\"*50)"
   ]
  },
  {
   "cell_type": "markdown",
   "metadata": {},
   "source": [
    "## 5. Visualize Predictions vs Actual"
   ]
  },
  {
   "cell_type": "code",
   "execution_count": null,
   "metadata": {},
   "outputs": [],
   "source": [
    "def plot_predictions_vs_actual(model, test_data, planet):\n",
    "    predictions = model.predict(test_data['date'], planet)\n",
    "    \n",
    "    plt.figure(figsize=(15, 8))\n",
    "    plt.scatter(test_data['date'], test_data['eclipse_type'], alpha=0.5, label='Actual')\n",
    "    plt.scatter(test_data['date'], predictions, alpha=0.5, label='Predicted')\n",
    "    plt.xlabel('Date')\n",
    "    plt.ylabel('Eclipse Type')\n",
    "    plt.title(f'Actual vs Predicted Eclipse Types for {planet.capitalize()}')\n",
    "    plt.legend()\n",
    "    plt.xticks(rotation=45)\n",
    "    plt.tight_layout()\n",
    "    plt.show()\n",
    "\n",
    "for planet in PLANETS:\n",
    "    plot_predictions_vs_actual(planetary_model, test_data[planet], planet)"
   ]
  },
  {
   "cell_type": "markdown",
   "metadata": {},
   "source": [
    "## 6. Analyze Prediction Errors"
   ]
  },
  {
   "cell_type": "code",
   "execution_count": null,
   "metadata": {},
   "outputs": [],
   "source": [
    "def analyze_errors(model, test_data, planet):\n",
    "    predictions = model.predict(test_data['date'], planet)\n",
    "    errors = test_data[test_data['eclipse_type'] != predictions].copy()\n",
    "    errors['predicted'] = predictions[test_data['eclipse_type'] != predictions]\n",
    "    \n",
    "    print(f\"Number of errors for {planet.capitalize()}: {len(errors)}\")\n",
    "    print(\"\\nSample of prediction errors:\")\n",
    "    print(errors.head())\n",
    "    \n",
    "    # Analyze errors by eclipse type\n",
    "    error_by_type = errors['eclipse_type'].value_counts(normalize=True)\n",
    "    plt.figure(figsize=(10, 6))\n",
    "    error_by_type.plot(kind='bar')\n",
    "    plt.title(f'Distribution of Errors by Eclipse Type for {planet.capitalize()}')\n",
    "    plt.xlabel('Eclipse Type')\n",
    "    plt.ylabel('Error Rate')\n",
    "    plt.xticks(rotation=45)\n",
    "    plt.tight_layout()\n",
    "    plt.show()\n",
    "\n",
    "for planet in PLANETS:\n",
    "    analyze_errors(planetary_model, test_data[planet], planet)\n",
    "    print(\"\\n\" + \"-\"*50)"
   ]
  },
  {
   "cell_type": "markdown",
   "metadata": {},
   "source": [
    "## 7. Predict Future Planetary Eclipses"
   ]
  },
  {
   "cell_type": "code",
   "execution_count": null,
   "metadata": {},
   "outputs": [],
   "source": [
    "def predict_future_eclipses(model, planet, start_date, end_date):\n",
    "    future_dates = pd.date_range(start=start_date, end=end_date, freq='D')\n",
    "    future_predictions = model.predict(future_dates, planet)\n",
    "    \n",
    "    future_eclipses = pd.DataFrame({'date': future_dates, 'predicted_eclipse': future_predictions})\n",
    "    future_eclipses = future_eclipses[future_eclipses['predicted_eclipse'] != 'No Eclipse']\n",
    "    \n",
    "    print(f\"Predicted Eclipses for {planet.capitalize()} ({start_date} to {end_date}):\")\n",
    "    print(future_eclipses)\n",
    "    \n",
    "    plt.figure(figsize=(15, 8))\n",
    "    for eclipse_type in future_eclipses['predicted_eclipse'].unique():\n",
    "        subset = future_eclipses[future_eclipses['predicted_eclipse'] == eclipse_type]\n",
    "        plt.scatter(subset['date'], [eclipse_type] * len(subset), label=eclipse_type)\n",
    "    plt.xlabel('Date')\n",
    "    plt.ylabel('Eclipse Type')\n",
    "    plt.title(f'Predicted Eclipses for {planet.capitalize()} ({start_date} to {end_date})')\n",
    "    plt.legend()\n",
    "    plt.xticks(rotation=45)\n",
    "    plt.tight_layout()\n",
    "    plt.show()\n",
    "\n",
    "start_date = '2025-01-01'\n",
    "end_date = '2030-12-31'\n",
    "\n",
    "for planet in PLANETS:\n",
    "    predict_future_eclipses(planetary_model, planet, start_date, end_date)\n",
    "    print(\"\\n\" + \"-\"*50)"
   ]
  },
  {
   "cell_type": "markdown",
   "metadata": {},
   "source": [
    "## 8. Analyze Planetary Eclipse Patterns"
   ]
  },
  {
   "cell_type": "code",
   "execution_count": null,
   "metadata": {},
   "outputs": [],
   "source": [
    "def analyze_eclipse_intervals(data, planet):\n",
    "    data = data.sort_values('date')\n",
    "    intervals = data['date'].diff().dt.days\n",
    "    \n",
    "    plt.figure(figsize=(12, 6))\n",
    "    plt.hist(intervals, bins=30, edgecolor='black')\n",
    "    plt.title(f'Distribution of Days Between Eclipses for {planet.capitalize()}')\n",
    "    plt.xlabel('Days')\n",
    "    plt.ylabel('Frequency')\n",
    "    plt.show()\n",
    "    \n",
    "    print(f\"Average days between eclipses for {planet.capitalize()}: {intervals.mean():.2f}\")\n",
    "    print(f\"Median days between eclipses for {planet.capitalize()}: {intervals.median():.2f}\")\n",
    "\n",
    "for planet in PLANETS:\n",
    "    print(f\"Historical Eclipse Intervals for {planet.capitalize()}:\")\n",
    "    analyze_eclipse_intervals(planetary_data[planet], planet)\n",
    "    print(\"\\n\" + \"-\"*50)"
   ]
  },
  {
   "cell_type": "markdown",
   "metadata": {},
   "source": [
    "## 9. Comparative Analysis Across Planets"
   ]
  },
  {
   "cell_type": "code",
   "execution_count": null,
   "metadata": {},
   "outputs": [],
   "source": [
    "def compare_eclipse_frequencies():\n",
    "    frequencies = {}\n",
    "    for planet in PLANETS:\n",
    "        frequencies[planet] = planetary_data[planet]['eclipse_type'].value_counts(normalize=True)\n",
    "    \n",
    "    df_frequencies = pd.DataFrame(frequencies)\n",
    "    \n",
    "    plt.figure(figsize=(12, 8))\n",
    "    df_frequencies.plot(kind='bar')\n",
    "    plt.title('Eclipse Type Frequencies Across Planets')\n",
    "    plt.xlabel('Eclipse Type')\n",
    "    plt.ylabel('Frequency')\n",
    "    plt.legend(title='Planet')\n",
    "    plt.xticks(rotation=45)\n",
    "    plt.tight_layout()\n",
    "    plt.show()\n",
    "compare_eclipse_frequencies()\n",
    "def compare_model_performance():\n",
    "    performance = {}\n",
    "    for planet in PLANETS:\n",
    "        predictions = planetary_model.predict(test_data[planet]['date'], planet)\n",
    "        performance[planet] = evaluate_planetary_eclipse_predictions(test_data[planet]['eclipse_type'], predictions)\n",
    "    df_performance = pd.DataFrame(performance).T\n",
    "    plt.figure(figsize=(12, 8))\n",
    "    sns.heatmap(df_performance, annot=True, cmap='YlGnBu')\n",
    "    plt.title('Model Performance Comparison Across Planets')\n",
    "    plt.tight_layout()\n",
    "    plt.show()\n",
    "compare_model_performance()\n",
    "print(\"Key observations from the comparative analysis:\")\n",
    "print(\"1. [Your observation about eclipse frequencies across planets]\")\n",
    "print(\"2. [Your observation about model performance differences]\")\n",
    "print(\"3. [Any other interesting patterns or anomalies you notice]\")\n"
   ]
  },
  {
   "cell_type": "markdown",
   "metadata": {},
   "source": [
    "## 10. Conclusion and Future Work\n",
    "\n",
    "In this notebook, we've conducted a comprehensive analysis of planetary eclipse predictions across multiple planets in our solar system. Key findings include:\n",
    "\n",
    "1. [Summarize overall model performance across planets]\n",
    "2. [Discuss any common patterns or interesting differences in eclipse occurrences between planets]\n",
    "3. [Highlight any particularly challenging aspects of planetary eclipse prediction]\n",
    "4. [Mention any unexpected results or insights gained from the comparative analysis]\n",
    "\n",
    "Future work could include:\n",
    "1. Incorporating additional astronomical features to improve prediction accuracy, especially for planets where the model performed less well.\n",
    "2. Extending the model to predict more detailed characteristics of planetary eclipses, such as duration or magnitude.\n",
    "3. Investigating the potential for transfer learning between planets - can a model trained on one planet's data improve predictions for another?\n",
    "4. Developing a unified model that can predict eclipses for all planets simultaneously, potentially uncovering system-wide patterns.\n",
    "5. Comparing our machine learning approach with traditional astronomical methods for planetary eclipse prediction.\n",
    "\n",
    "This analysis demonstrates the potential of applying machine learning techniques to complex astronomical phenomena across multiple celestial bodies. It provides a foundation for further research into planetary dynamics and eclipse prediction methodologies."
   ]
  }
 ],
 "metadata": {
  "kernelspec": {
   "display_name": "Python 3",
   "language": "python",
   "name": "python3"
  },
  "language_info": {
   "codemirror_mode": {
    "name": "ipython",
    "version": 3
   },
   "file_extension": ".py",
   "mimetype": "text/x-python",
   "name": "python",
   "nbconvert_exporter": "python",
   "pygments_lexer": "ipython3",
   "version": "3.8.5"
  }
 },
 "nbformat": 4,
 "nbformat_minor": 4
}
